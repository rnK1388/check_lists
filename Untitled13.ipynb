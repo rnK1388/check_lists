{
  "nbformat": 4,
  "nbformat_minor": 0,
  "metadata": {
    "colab": {
      "provenance": [],
      "authorship_tag": "ABX9TyM1GoguZlNhJVI+GODV1iBF",
      "include_colab_link": true
    },
    "kernelspec": {
      "name": "python3",
      "display_name": "Python 3"
    },
    "language_info": {
      "name": "python"
    }
  },
  "cells": [
    {
      "cell_type": "markdown",
      "metadata": {
        "id": "view-in-github",
        "colab_type": "text"
      },
      "source": [
        "<a href=\"https://colab.research.google.com/github/rnK1388/check_lists/blob/main/Untitled13.ipynb\" target=\"_parent\"><img src=\"https://colab.research.google.com/assets/colab-badge.svg\" alt=\"Open In Colab\"/></a>"
      ]
    },
    {
      "cell_type": "code",
      "execution_count": 2,
      "metadata": {
        "colab": {
          "base_uri": "https://localhost:8080/"
        },
        "id": "-TrL2sW69I77",
        "outputId": "7340069d-c41d-40e8-e28b-d763cb9798f3"
      },
      "outputs": [
        {
          "output_type": "stream",
          "name": "stdout",
          "text": [
            "Year:2400\n",
            "2400 is leap year.\n"
          ]
        }
      ],
      "source": [
        "year=int(input(\"Year:\"))\n",
        "if (year%4==0 and year%100!=0) or year%400==0:\n",
        "   print(f\"{year} is leap year.\")\n",
        "else:\n",
        "   print(f\"{year} is not leap year.\")"
      ]
    }
  ]
}