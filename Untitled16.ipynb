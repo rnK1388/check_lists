{
  "nbformat": 4,
  "nbformat_minor": 0,
  "metadata": {
    "colab": {
      "provenance": [],
      "authorship_tag": "ABX9TyOmjvQJELew5xF/YiyItVNo",
      "include_colab_link": true
    },
    "kernelspec": {
      "name": "python3",
      "display_name": "Python 3"
    },
    "language_info": {
      "name": "python"
    }
  },
  "cells": [
    {
      "cell_type": "markdown",
      "metadata": {
        "id": "view-in-github",
        "colab_type": "text"
      },
      "source": [
        "<a href=\"https://colab.research.google.com/github/rnK1388/check_lists/blob/main/Untitled16.ipynb\" target=\"_parent\"><img src=\"https://colab.research.google.com/assets/colab-badge.svg\" alt=\"Open In Colab\"/></a>"
      ]
    },
    {
      "cell_type": "code",
      "execution_count": 1,
      "metadata": {
        "colab": {
          "base_uri": "https://localhost:8080/"
        },
        "id": "aPJqv7Py_NZ_",
        "outputId": "20d016f0-5722-4d66-c323-487d8f1cd7ef"
      },
      "outputs": [
        {
          "output_type": "stream",
          "name": "stdout",
          "text": [
            "Enter a number:10\n",
            "[0, 1, 1, 2, 3, 5, 8, 13, 21, 34, 55]\n"
          ]
        }
      ],
      "source": [
        "# fibonacci number formula f(n)=f(n-1)+f(n-2)\n",
        "def fibo(n):\n",
        "   a=0\n",
        "   b=1\n",
        "   if n==0:\n",
        "      return a\n",
        "   elif n==1:\n",
        "      return b\n",
        "   else :\n",
        "     return fibo(n-1) + fibo(n-2)\n",
        "n=int(input(\"Enter a number:\"))\n",
        "fi=[fibo(i) for i in range(0,n+1)]\n",
        "print(fi)"
      ]
    }
  ]
}