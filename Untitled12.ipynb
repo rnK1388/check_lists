{
  "nbformat": 4,
  "nbformat_minor": 0,
  "metadata": {
    "colab": {
      "provenance": [],
      "authorship_tag": "ABX9TyP9lEsV6/EL9yR49Hpnhq/7",
      "include_colab_link": true
    },
    "kernelspec": {
      "name": "python3",
      "display_name": "Python 3"
    },
    "language_info": {
      "name": "python"
    }
  },
  "cells": [
    {
      "cell_type": "markdown",
      "metadata": {
        "id": "view-in-github",
        "colab_type": "text"
      },
      "source": [
        "<a href=\"https://colab.research.google.com/github/rnK1388/check_lists/blob/main/Untitled12.ipynb\" target=\"_parent\"><img src=\"https://colab.research.google.com/assets/colab-badge.svg\" alt=\"Open In Colab\"/></a>"
      ]
    },
    {
      "cell_type": "code",
      "execution_count": 3,
      "metadata": {
        "colab": {
          "base_uri": "https://localhost:8080/"
        },
        "id": "-2PA8qpPD6mr",
        "outputId": "8901ba0b-d0df-4452-bf3d-865d30a347d8"
      },
      "outputs": [
        {
          "output_type": "stream",
          "name": "stdout",
          "text": [
            "Are you a cigarette addict older than 75 years old?Please enter Yes or No:Yes\n",
            "Do you have a severe chronic disease?Please enter Yes or No:Yes\n",
            "Is your immune system too weak?Please enter Yes or No:Yes\n",
            "You are risky group\n"
          ]
        }
      ],
      "source": [
        "\n",
        "age=input(\"Are you a cigarette addict older than 75 years old?Please enter Yes or No:\")\n",
        "chronic=input(\"Do you have a severe chronic disease?Please enter Yes or No:\")\n",
        "immune=input(\"Is your immune system too weak?Please enter Yes or No:\")\n",
        "if age==(\"Yes\") and chronic==(\"Yes\") and immune==(\"Yes\"):\n",
        "   print(\"You are risky group\")\n",
        "else:\n",
        "   print(\"You are not risky group\")\n",
        "\n"
      ]
    },
    {
      "cell_type": "code",
      "source": [
        "bool(0)"
      ],
      "metadata": {
        "colab": {
          "base_uri": "https://localhost:8080/"
        },
        "id": "veyg_0HeQan1",
        "outputId": "39538934-d685-438e-fdd5-181a41477f4a"
      },
      "execution_count": null,
      "outputs": [
        {
          "output_type": "execute_result",
          "data": {
            "text/plain": [
              "False"
            ]
          },
          "metadata": {},
          "execution_count": 13
        }
      ]
    }
  ]
}