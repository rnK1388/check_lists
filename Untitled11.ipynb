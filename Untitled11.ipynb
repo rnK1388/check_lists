{
  "nbformat": 4,
  "nbformat_minor": 0,
  "metadata": {
    "colab": {
      "provenance": [],
      "authorship_tag": "ABX9TyNbujqZ6gTGUKQa6OQcAadl",
      "include_colab_link": true
    },
    "kernelspec": {
      "name": "python3",
      "display_name": "Python 3"
    },
    "language_info": {
      "name": "python"
    }
  },
  "cells": [
    {
      "cell_type": "markdown",
      "metadata": {
        "id": "view-in-github",
        "colab_type": "text"
      },
      "source": [
        "<a href=\"https://colab.research.google.com/github/rnK1388/check_lists/blob/main/Untitled11.ipynb\" target=\"_parent\"><img src=\"https://colab.research.google.com/assets/colab-badge.svg\" alt=\"Open In Colab\"/></a>"
      ]
    },
    {
      "cell_type": "code",
      "execution_count": 6,
      "metadata": {
        "colab": {
          "base_uri": "https://localhost:8080/"
        },
        "id": "Ys7hsW5a-wpS",
        "outputId": "6a6cf862-5512-4891-afa2-69215631888e"
      },
      "outputs": [
        {
          "output_type": "stream",
          "name": "stdout",
          "text": [
            "Enter Your Name:rabia\n",
            "Hello,rabia ! See you later.\n"
          ]
        }
      ],
      "source": [
        "\n",
        "my_name=input(\"Enter Your Name:\")\n",
        "if my_name == \"Joseph\":\n",
        "  print(\"Hello, Joseph! The password is : W@12\")\n",
        "else:\n",
        "  print(f\"Hello,{my_name} ! See you later.\")"
      ]
    }
  ]
}