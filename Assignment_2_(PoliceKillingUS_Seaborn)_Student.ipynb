{
  "cells": [
    {
      "cell_type": "markdown",
      "metadata": {
        "id": "view-in-github",
        "colab_type": "text"
      },
      "source": [
        "<a href=\"https://colab.research.google.com/github/rnK1388/check_lists/blob/main/Assignment_2_(PoliceKillingUS_Seaborn)_Student.ipynb\" target=\"_parent\"><img src=\"https://colab.research.google.com/assets/colab-badge.svg\" alt=\"Open In Colab\"/></a>"
      ]
    },
    {
      "cell_type": "markdown",
      "metadata": {
        "id": "Crn14DLz2alD"
      },
      "source": [
        "___\n",
        "\n",
        "<a href=\"https://lms.clarusway.com/course/view.php?id=7435\"><img align=\"center\" src=\"https://i.ibb.co/6Z5pQxD/lmss.png\" alt=\"Open in Clarusway LMS\" width=\"70\" height=\"200\" title=\"Open Clarusway Learning Management Sytem\"></a>\n",
        "\n",
        "___\n",
        "\n",
        "<a href=\"https://clarusway.com/\"><img align=\"center\" src=\"https://docs.google.com/uc?id=1lY0Uj5R04yMY3-ZppPWxqCr5pvBLYPnV\" alt=\"CLRSWY\" width=\"450\" height=\"200\" title=\"Welcome to Place Where You can Reinvent Yourself\"></a><br/>\n",
        "\n",
        "## <p style=\"background-color:#FDFEFE; font-family:newtimeroman; color:#9d4f8c; font-size:120%; text-align:center; border-radius:10px 10px;\">Way to Reinvent Yourself</p>\n",
        "\n",
        "<p style=\"text-align: center;\"><img src=\"https://i.ibb.co/99DQ3TY/DS-Courses.png\" class=\"img-fluid\" \n",
        "alt=\"CLRSWY\"></p>\n",
        "\n",
        "\n",
        "\n",
        "## <p style=\"background-color:#9d4f8c; font-family:newtimeroman; color:#FFF9ED; font-size:150%; text-align:center; border-radius:10px 10px;\">POLICE KILLING US - SEABORN VISUALiZATION TASK</p>\n",
        "\n",
        "<img src=https://i.ibb.co/z8vpsJM/police-killing-us.png width=\"700\" height=\"200\">  \n",
        "\n",
        "[Photo Credit: Wikipedia](https://en.wikipedia.org/wiki/Lists_of_killings_by_law_enforcement_officers_in_the_United_States#cite_note-1)\n",
        "\n",
        "\n",
        "\n",
        "## <p style=\"background-color:#FDFEFE; font-family:newtimeroman; color:#060108; font-size:200%; text-align:center; border-radius:10px 10px;\">Data Visualization with Python</p>\n",
        "\n",
        "![Image_Assignment](https://i.ibb.co/cY9HhF7/bnote-assignment.gif)\n",
        "\n",
        "## <p style=\"background-color:#FDFEFE; font-family:newtimeroman; color:#4d77cf; font-size:150%; text-align:center; border-radius:10px 10px;\">Assignment 02 (PoliceKillingUS-Seaborn)</p>"
      ]
    },
    {
      "cell_type": "markdown",
      "metadata": {
        "id": "cjBVi64QLfBJ"
      },
      "source": [
        "<a id=\"toc\"></a>\n",
        "\n",
        "## <p style=\"background-color:#9d4f8c; font-family:newtimeroman; color:#FFF9ED; font-size:150%; text-align:center; border-radius:10px 10px;\">CONTENT</p>\n",
        "\n",
        "* [ABOUT THE DATASET & CONTEXT](#00)\n",
        "* [ABOUT THE FEATURES](#000)\n",
        "* [IMPORTING LIBRARIES NEEDED IN THIS NOTEBOOK](#0)\n",
        "* [INSTRUCTIONS (Tasks in the Assignment)](#1)\n",
        "* [TASK-01 PLOT AGE BY GENDER IN TERMS OF MANNER OF DEATH](#2)\n",
        "    * [1.1 Box plot of age in both genders separeted by manner of death](#2.1)\n",
        "    * [1.2 Box plot of age in both genders separeted by manner of death](#2.2)\n",
        "* [TASK-02 PLOT 12 MOST DANGEROUS CITIES](#3)\n",
        "* [TASK-03 PLOT 20 MOST DANGEROUS STATES](#4)\n",
        "* [TASK-04 PLOT THE KILLED PEOPLE HAVING MENTAL-ILLNESS OR NOT](#5) \n",
        "* [TASK-05 PLOT THE NUMBER OF THREAT TYPES](#6)\n",
        "* [TASK-06 PLOT THE NUMBER OF FLEE TYPES](#7)\n",
        "* [THE END OF THE ASSIGNMENT-02](#8)"
      ]
    },
    {
      "cell_type": "markdown",
      "metadata": {
        "id": "_rIPRWATLfBK"
      },
      "source": [
        "<a id=\"toc\"></a>\n",
        "\n",
        "## <p style=\"background-color:#9d4f8c; font-family:newtimeroman; color:#FFF9ED; font-size:150%; text-align:center; border-radius:10px 10px;\">ABOUT THE DATASET & CONTEXT</p>\n",
        "\n",
        "\"In 2015, The Washington Post began to log [every fatal shooting](https://www.washingtonpost.com/graphics/national/police-shootings-year-end/) by an on-duty police officer in the United States. In that time there have been [more than 5,000 such shootings](https://www.washingtonpost.com/nation/2019/08/09/what-weve-learned-about-police-shootings-years-after-ferguson/?arc404=true) recorded by The Post. After [Michael Brown, an unarmed Black man, was killed](https://www.washingtonpost.com/policeshootings/) in 2014 by police in Ferguson, Mo., a Post investigation found that the [FBI undercounted fatal police shootings](https://www.washingtonpost.com/news/post-nation/wp/2014/09/08/how-many-police-shootings-a-year-no-one-knows/) by more than half. This is because reporting by police departments is voluntary and many departments fail to do so. The Washington Post’s data relies primarily on news accounts, social media postings and police reports. Analysis of more than five years of data reveals that the number and circumstances of fatal shootings and the overall demographics of the victims have remained relatively constant...\" [SOURCE ==> Washington Post Article](https://www.washingtonpost.com/graphics/investigations/police-shootings-database/)\n",
        "\n",
        "[For more information about this story](https://www.washingtonpost.com/graphics/investigations/police-shootings-database/)\n",
        "\n",
        "\n",
        "This dataset has been prepared by The Washington Post (they keep updating it on runtime) with every fatal shooting in the United States by a police officer in the line of duty since Jan. 1, 2015.\n",
        "\n",
        "[2016 PoliceKillingUS DATASET](https://www.washingtonpost.com/graphics/national/police-shootings-2016/)<br>\n",
        "[2017 PoliceKillingUS DATASET](https://www.washingtonpost.com/graphics/national/police-shootings-2017/)<br>\n",
        "[2018 PoliceKillingUS DATASET](https://www.washingtonpost.com/graphics/2018/national/police-shootings-2018/)<br>\n",
        "[2019 PoliceKillingUS DATASET](https://www.washingtonpost.com/graphics/2019/national/police-shootings-2019/)<br>\n",
        "[2020 PoliceKillingUS DATASET](https://www.washingtonpost.com/graphics/national/police-shootings-2017/)<br>\n",
        "\n",
        "\n",
        "**In this assignment, you are supposed to do the exercise yourself to see if you can solve it. While solving the tasks if you need to remember some subjects, please repeat inclass materails in the course and udemy course videos if provided to you.**"
      ]
    },
    {
      "cell_type": "markdown",
      "metadata": {
        "id": "XSmBRbNqLfBL"
      },
      "source": [
        "## <p style=\"background-color:#9d4f8c; font-family:newtimeroman; color:#FFF9ED; font-size:150%; text-align:center; border-radius:10px 10px;\">ABOUT THE FEATURES</p>\n",
        "\n",
        "<a id=\"00\"></a>\n",
        "<a href=\"#toc\" class=\"btn btn-primary btn-sm\" role=\"button\" aria-pressed=\"true\" \n",
        "style=\"color:blue; background-color:#dfa8e4\" data-toggle=\"popover\">Content</a>\n",
        "\n",
        "The file fatal-police-shootings-data.csv contains data about each fatal shooting in CSV format. The file can be downloaded at this URL. Each row has the following variables:\n",
        "\n",
        "- **id:** a unique identifier for each victim\n",
        "- **name:** the name of the victim\n",
        "- **date:** the date of the fatal shooting in YYYY-MM-DD format\n",
        "- **manner_of_death:** shot, shot and Tasered\n",
        "- **armed:** indicates that the victim was armed with some sort of implement that a police officer believed could inflict harm\n",
        "    - undetermined: it is not known whether or not the victim had a weapon\n",
        "    - unknown: the victim was armed, but it is not known what the object was\n",
        "    - unarmed: the victim was not armed\n",
        "- **age:** the age of the victim\n",
        "- **gender:** the gender of the victim. The Post identifies victims by the gender they identify with if reports indicate that it differs from their biological sex.\n",
        "    - M: Male\n",
        "    - F: Female\n",
        "    - None: unknown\n",
        "- **race:**\n",
        "    - W: White, non-Hispanic\n",
        "    - B: Black, non-Hispanic\n",
        "    - A: Asian\n",
        "    - N: Native American\n",
        "    - H: Hispanic\n",
        "    - O: Other\n",
        "    - None: unknown\n",
        "- **city:** the municipality where the fatal shooting took place. Note that in some cases this field may contain a county name if a more specific municipality is unavailable or unknown.\n",
        "- **state:** two-letter postal code abbreviation\n",
        "- **signs of mental illness:** News reports have indicated the victim had a history of mental health issues, expressed suicidal intentions or was experiencing mental distress at the time of the shooting.\n",
        "- **threat_level:** The threat_level column was used to flag incidents for the story by Amy Brittain in October 2015. http://www.washingtonpost.com/sf/investigative/2015/10/24/on-duty-under-fire/ As described in the story, the general criteria for the attack label was that there was the most direct and immediate threat to life. That would include incidents where officers or others were shot at, threatened with a gun, attacked with other weapons or physical force, etc. The attack category is meant to flag the highest level of threat. The other and undetermined categories represent all remaining cases. Other includes many incidents where officers or others faced significant threats.\n",
        "- **flee:** News reports have indicated the victim was moving away from officers\n",
        "    - Foot\n",
        "    - Car\n",
        "    - Not fleeing\n",
        "\n",
        "The threat column and the fleeing column are not necessarily related. For example, there is an incident in which the suspect is fleeing and at the same time turns to fire at gun at the officer. Also, attacks represent a status immediately before fatal shots by police while fleeing could begin slightly earlier and involve a chase.\n",
        "- **body_camera:** News reports have indicated an officer was wearing a body camera and it may have recorded some portion of the incident.\n",
        "\n",
        "[SOURCE](https://github.com/washingtonpost/data-police-shootings)"
      ]
    },
    {
      "cell_type": "markdown",
      "metadata": {
        "id": "IO3RppSGLfBN"
      },
      "source": [
        "## <p style=\"background-color:#9d4f8c; font-family:newtimeroman; color:#FFF9ED; font-size:150%; text-align:center; border-radius:10px 10px;\">IMPORTING LIBRARIES NEEDED IN THIS NOTEBOOK</p>\n",
        "\n",
        "<a id=\"000\"></a>\n",
        "<a href=\"#toc\" class=\"btn btn-primary btn-sm\" role=\"button\" aria-pressed=\"true\" \n",
        "style=\"color:blue; background-color:#dfa8e4\" data-toggle=\"popover\">Content</a>"
      ]
    },
    {
      "cell_type": "code",
      "execution_count": 1,
      "metadata": {
        "_cell_guid": "5fdcd462-5466-40f5-9992-dc31a9a174f2",
        "_uuid": "dab5021d92c7210270cec270470e4ae179a1de01",
        "id": "HC70KTrg2alE"
      },
      "outputs": [],
      "source": [
        "import numpy as np \n",
        "import pandas as pd\n",
        "\n",
        "import seaborn as sns\n",
        "import matplotlib.pyplot as plt\n",
        "%matplotlib inline\n",
        "\n",
        "from collections import Counter\n",
        "\n",
        "import warnings\n",
        "warnings.filterwarnings('ignore') "
      ]
    },
    {
      "cell_type": "markdown",
      "metadata": {
        "id": "TO79tygjLfBP"
      },
      "source": [
        "## <p style=\"background-color:#9d4f8c; font-family:newtimeroman; color:#FFF9ED; font-size:150%; text-align:center; border-radius:10px 10px;\">INSTRUCTIONS (Tasks in the Assignment)</p>\n",
        "\n",
        "<a id=\"1\"></a>\n",
        "<a href=\"#toc\" class=\"btn btn-primary btn-sm\" role=\"button\" aria-pressed=\"true\" \n",
        "style=\"color:blue; background-color:#dfa8e4\" data-toggle=\"popover\">Content</a>\n",
        "\n",
        "**In this assignment you're required to handle with the following tasks:** \n",
        "\n",
        "- **Task 1.** Using Box and Swarm Plots, plotting Age by Gender in terms of \"Manner of Death\" column of DataFrame named as \"kill\"<br>\n",
        "- **Task 2.** Plotting Most dangerous cities<br>\n",
        "- **Task 3.** Plotting Most dangerous states<br>\n",
        "- **Task 4.** Plotting the killed people having mental illness or not<br>\n",
        "- **Task 5.** Plotting threat types<br>\n",
        "- **Task 6.** Plotting flee types<br>\n",
        "\n",
        "Before diving into the tasks in the assignment, you have to read the dataset. If you have some obatacles while reading the dataset, we recommend you make a research on 🤔 \"how to read the dataset in Pandas\" and 🧐 play with the parameters inside the pandas.read_csv() method. You can use encoding=\"windows-1252\" parameter for reading this dataset.\n",
        "\n",
        "⚠️ In this assignment you are supposed to make some visualizations according to the following questions. So, unless otherwise stated, you do NOT need to follow any Exploratory Data Analysis steps, such as handling missing values & outliers, dropping duplicates, and etc., or apply any Pandas method for preparing the dataset to Machine Learning modelling ⚠️\n",
        "\n",
        "**Now Let us first try to load and read the PoliceKillingsUS dataset. [SOURCE](https://towardsdatascience.com/learn-how-to-read-data-into-a-pandas-dataframe-in-5-minutes-122af8e0b9db) for learning how to read data into a Pandas DataFrame in 5 minutes.** "
      ]
    },
    {
      "cell_type": "code",
      "execution_count": 4,
      "metadata": {
        "_cell_guid": "abb0685f-f844-43f8-84c0-4cd54361c7bf",
        "_uuid": "9c06ed7c41db79ae9d940f2d52aeff23621b3037",
        "id": "o0KjRfoR2alF",
        "colab": {
          "base_uri": "https://localhost:8080/",
          "height": 357
        },
        "outputId": "deff242e-f5a2-438d-91ea-19081c424dbc"
      },
      "outputs": [
        {
          "output_type": "execute_result",
          "data": {
            "text/plain": [
              "   id                name      date   manner_of_death       armed   age  \\\n",
              "0   3          Tim Elliot  02/01/15              shot         gun  53.0   \n",
              "1   4    Lewis Lee Lembke  02/01/15              shot         gun  47.0   \n",
              "2   5  John Paul Quintero  03/01/15  shot and Tasered     unarmed  23.0   \n",
              "3   8     Matthew Hoffman  04/01/15              shot  toy weapon  32.0   \n",
              "4   9   Michael Rodriguez  04/01/15              shot    nail gun  39.0   \n",
              "\n",
              "  gender race           city state  signs_of_mental_illness threat_level  \\\n",
              "0      M    A        Shelton    WA                     True       attack   \n",
              "1      M    W          Aloha    OR                    False       attack   \n",
              "2      M    H        Wichita    KS                    False        other   \n",
              "3      M    W  San Francisco    CA                     True       attack   \n",
              "4      M    H          Evans    CO                    False       attack   \n",
              "\n",
              "          flee  body_camera  \n",
              "0  Not fleeing        False  \n",
              "1  Not fleeing        False  \n",
              "2  Not fleeing        False  \n",
              "3  Not fleeing        False  \n",
              "4  Not fleeing        False  "
            ],
            "text/html": [
              "\n",
              "  <div id=\"df-897e3143-2c69-4e56-b2c4-ee1ff99d6b87\">\n",
              "    <div class=\"colab-df-container\">\n",
              "      <div>\n",
              "<style scoped>\n",
              "    .dataframe tbody tr th:only-of-type {\n",
              "        vertical-align: middle;\n",
              "    }\n",
              "\n",
              "    .dataframe tbody tr th {\n",
              "        vertical-align: top;\n",
              "    }\n",
              "\n",
              "    .dataframe thead th {\n",
              "        text-align: right;\n",
              "    }\n",
              "</style>\n",
              "<table border=\"1\" class=\"dataframe\">\n",
              "  <thead>\n",
              "    <tr style=\"text-align: right;\">\n",
              "      <th></th>\n",
              "      <th>id</th>\n",
              "      <th>name</th>\n",
              "      <th>date</th>\n",
              "      <th>manner_of_death</th>\n",
              "      <th>armed</th>\n",
              "      <th>age</th>\n",
              "      <th>gender</th>\n",
              "      <th>race</th>\n",
              "      <th>city</th>\n",
              "      <th>state</th>\n",
              "      <th>signs_of_mental_illness</th>\n",
              "      <th>threat_level</th>\n",
              "      <th>flee</th>\n",
              "      <th>body_camera</th>\n",
              "    </tr>\n",
              "  </thead>\n",
              "  <tbody>\n",
              "    <tr>\n",
              "      <th>0</th>\n",
              "      <td>3</td>\n",
              "      <td>Tim Elliot</td>\n",
              "      <td>02/01/15</td>\n",
              "      <td>shot</td>\n",
              "      <td>gun</td>\n",
              "      <td>53.0</td>\n",
              "      <td>M</td>\n",
              "      <td>A</td>\n",
              "      <td>Shelton</td>\n",
              "      <td>WA</td>\n",
              "      <td>True</td>\n",
              "      <td>attack</td>\n",
              "      <td>Not fleeing</td>\n",
              "      <td>False</td>\n",
              "    </tr>\n",
              "    <tr>\n",
              "      <th>1</th>\n",
              "      <td>4</td>\n",
              "      <td>Lewis Lee Lembke</td>\n",
              "      <td>02/01/15</td>\n",
              "      <td>shot</td>\n",
              "      <td>gun</td>\n",
              "      <td>47.0</td>\n",
              "      <td>M</td>\n",
              "      <td>W</td>\n",
              "      <td>Aloha</td>\n",
              "      <td>OR</td>\n",
              "      <td>False</td>\n",
              "      <td>attack</td>\n",
              "      <td>Not fleeing</td>\n",
              "      <td>False</td>\n",
              "    </tr>\n",
              "    <tr>\n",
              "      <th>2</th>\n",
              "      <td>5</td>\n",
              "      <td>John Paul Quintero</td>\n",
              "      <td>03/01/15</td>\n",
              "      <td>shot and Tasered</td>\n",
              "      <td>unarmed</td>\n",
              "      <td>23.0</td>\n",
              "      <td>M</td>\n",
              "      <td>H</td>\n",
              "      <td>Wichita</td>\n",
              "      <td>KS</td>\n",
              "      <td>False</td>\n",
              "      <td>other</td>\n",
              "      <td>Not fleeing</td>\n",
              "      <td>False</td>\n",
              "    </tr>\n",
              "    <tr>\n",
              "      <th>3</th>\n",
              "      <td>8</td>\n",
              "      <td>Matthew Hoffman</td>\n",
              "      <td>04/01/15</td>\n",
              "      <td>shot</td>\n",
              "      <td>toy weapon</td>\n",
              "      <td>32.0</td>\n",
              "      <td>M</td>\n",
              "      <td>W</td>\n",
              "      <td>San Francisco</td>\n",
              "      <td>CA</td>\n",
              "      <td>True</td>\n",
              "      <td>attack</td>\n",
              "      <td>Not fleeing</td>\n",
              "      <td>False</td>\n",
              "    </tr>\n",
              "    <tr>\n",
              "      <th>4</th>\n",
              "      <td>9</td>\n",
              "      <td>Michael Rodriguez</td>\n",
              "      <td>04/01/15</td>\n",
              "      <td>shot</td>\n",
              "      <td>nail gun</td>\n",
              "      <td>39.0</td>\n",
              "      <td>M</td>\n",
              "      <td>H</td>\n",
              "      <td>Evans</td>\n",
              "      <td>CO</td>\n",
              "      <td>False</td>\n",
              "      <td>attack</td>\n",
              "      <td>Not fleeing</td>\n",
              "      <td>False</td>\n",
              "    </tr>\n",
              "  </tbody>\n",
              "</table>\n",
              "</div>\n",
              "      <button class=\"colab-df-convert\" onclick=\"convertToInteractive('df-897e3143-2c69-4e56-b2c4-ee1ff99d6b87')\"\n",
              "              title=\"Convert this dataframe to an interactive table.\"\n",
              "              style=\"display:none;\">\n",
              "        \n",
              "  <svg xmlns=\"http://www.w3.org/2000/svg\" height=\"24px\"viewBox=\"0 0 24 24\"\n",
              "       width=\"24px\">\n",
              "    <path d=\"M0 0h24v24H0V0z\" fill=\"none\"/>\n",
              "    <path d=\"M18.56 5.44l.94 2.06.94-2.06 2.06-.94-2.06-.94-.94-2.06-.94 2.06-2.06.94zm-11 1L8.5 8.5l.94-2.06 2.06-.94-2.06-.94L8.5 2.5l-.94 2.06-2.06.94zm10 10l.94 2.06.94-2.06 2.06-.94-2.06-.94-.94-2.06-.94 2.06-2.06.94z\"/><path d=\"M17.41 7.96l-1.37-1.37c-.4-.4-.92-.59-1.43-.59-.52 0-1.04.2-1.43.59L10.3 9.45l-7.72 7.72c-.78.78-.78 2.05 0 2.83L4 21.41c.39.39.9.59 1.41.59.51 0 1.02-.2 1.41-.59l7.78-7.78 2.81-2.81c.8-.78.8-2.07 0-2.86zM5.41 20L4 18.59l7.72-7.72 1.47 1.35L5.41 20z\"/>\n",
              "  </svg>\n",
              "      </button>\n",
              "      \n",
              "  <style>\n",
              "    .colab-df-container {\n",
              "      display:flex;\n",
              "      flex-wrap:wrap;\n",
              "      gap: 12px;\n",
              "    }\n",
              "\n",
              "    .colab-df-convert {\n",
              "      background-color: #E8F0FE;\n",
              "      border: none;\n",
              "      border-radius: 50%;\n",
              "      cursor: pointer;\n",
              "      display: none;\n",
              "      fill: #1967D2;\n",
              "      height: 32px;\n",
              "      padding: 0 0 0 0;\n",
              "      width: 32px;\n",
              "    }\n",
              "\n",
              "    .colab-df-convert:hover {\n",
              "      background-color: #E2EBFA;\n",
              "      box-shadow: 0px 1px 2px rgba(60, 64, 67, 0.3), 0px 1px 3px 1px rgba(60, 64, 67, 0.15);\n",
              "      fill: #174EA6;\n",
              "    }\n",
              "\n",
              "    [theme=dark] .colab-df-convert {\n",
              "      background-color: #3B4455;\n",
              "      fill: #D2E3FC;\n",
              "    }\n",
              "\n",
              "    [theme=dark] .colab-df-convert:hover {\n",
              "      background-color: #434B5C;\n",
              "      box-shadow: 0px 1px 3px 1px rgba(0, 0, 0, 0.15);\n",
              "      filter: drop-shadow(0px 1px 2px rgba(0, 0, 0, 0.3));\n",
              "      fill: #FFFFFF;\n",
              "    }\n",
              "  </style>\n",
              "\n",
              "      <script>\n",
              "        const buttonEl =\n",
              "          document.querySelector('#df-897e3143-2c69-4e56-b2c4-ee1ff99d6b87 button.colab-df-convert');\n",
              "        buttonEl.style.display =\n",
              "          google.colab.kernel.accessAllowed ? 'block' : 'none';\n",
              "\n",
              "        async function convertToInteractive(key) {\n",
              "          const element = document.querySelector('#df-897e3143-2c69-4e56-b2c4-ee1ff99d6b87');\n",
              "          const dataTable =\n",
              "            await google.colab.kernel.invokeFunction('convertToInteractive',\n",
              "                                                     [key], {});\n",
              "          if (!dataTable) return;\n",
              "\n",
              "          const docLinkHtml = 'Like what you see? Visit the ' +\n",
              "            '<a target=\"_blank\" href=https://colab.research.google.com/notebooks/data_table.ipynb>data table notebook</a>'\n",
              "            + ' to learn more about interactive tables.';\n",
              "          element.innerHTML = '';\n",
              "          dataTable['output_type'] = 'display_data';\n",
              "          await google.colab.output.renderOutput(dataTable, element);\n",
              "          const docLink = document.createElement('div');\n",
              "          docLink.innerHTML = docLinkHtml;\n",
              "          element.appendChild(docLink);\n",
              "        }\n",
              "      </script>\n",
              "    </div>\n",
              "  </div>\n",
              "  "
            ]
          },
          "metadata": {},
          "execution_count": 4
        }
      ],
      "source": [
        "# Reading and assigning the data to an object named \"kill\"\n",
        "\n",
        "# YOUR CODE IS HERE\n",
        "\n",
        "kill = pd.read_csv(\"PoliceKillingsUS.csv\" , encoding=\"windows-1252\")\n",
        "kill.head()"
      ]
    },
    {
      "cell_type": "markdown",
      "metadata": {
        "_uuid": "bfb975b648fbcbd1c6cdf1634f01e01371924a8c",
        "id": "olpSFCOo2alG",
        "outputId": "521c8b5e-ce68-4e49-ca71-dc4cdf65cddf"
      },
      "source": [
        "Desired Output:\n",
        "\n",
        "<img src=https://i.ibb.co/bF8hKvn/DV1-1a.png width=\"800\" height=\"200\">  "
      ]
    },
    {
      "cell_type": "code",
      "execution_count": 6,
      "metadata": {
        "colab": {
          "base_uri": "https://localhost:8080/"
        },
        "id": "11_xUVovLfBR",
        "outputId": "ef6cb9d6-8a62-4ece-ff4e-8bab34826ac9"
      },
      "outputs": [
        {
          "output_type": "execute_result",
          "data": {
            "text/plain": [
              "(2535, 14)"
            ]
          },
          "metadata": {},
          "execution_count": 6
        }
      ],
      "source": [
        "# YOUR CODE IS HERE\n",
        "\n",
        "kill.shape"
      ]
    },
    {
      "cell_type": "raw",
      "metadata": {
        "id": "JccwOQ5ALfBR"
      },
      "source": [
        "Desired Output:\n",
        "\n",
        "(2535, 14)"
      ]
    },
    {
      "cell_type": "code",
      "execution_count": 23,
      "metadata": {
        "colab": {
          "base_uri": "https://localhost:8080/"
        },
        "id": "Y5Wl8CKoLfBS",
        "outputId": "b728530c-7a70-415f-f342-77c8d6cdf80f"
      },
      "outputs": [
        {
          "output_type": "execute_result",
          "data": {
            "text/plain": [
              "id                           0\n",
              "name                         0\n",
              "date                         0\n",
              "manner_of_death              0\n",
              "armed                        9\n",
              "age                         77\n",
              "gender                       0\n",
              "race                       195\n",
              "city                         0\n",
              "state                        0\n",
              "signs_of_mental_illness      0\n",
              "threat_level                 0\n",
              "flee                        65\n",
              "body_camera                  0\n",
              "dtype: int64"
            ]
          },
          "metadata": {},
          "execution_count": 23
        }
      ],
      "source": [
        "# YOUR CODE IS HERE\n",
        "kill.isnull().sum()\n"
      ]
    },
    {
      "cell_type": "raw",
      "metadata": {
        "id": "GjZyuF2hLfBS"
      },
      "source": [
        "Desired Output:\n",
        "\n",
        "id                           0\n",
        "name                         0\n",
        "date                         0\n",
        "manner_of_death              0\n",
        "armed                        9\n",
        "age                         77\n",
        "gender                       0\n",
        "race                       195\n",
        "city                         0\n",
        "state                        0\n",
        "signs_of_mental_illness      0\n",
        "threat_level                 0\n",
        "flee                        65\n",
        "body_camera                  0\n",
        "dtype: int64"
      ]
    },
    {
      "cell_type": "code",
      "execution_count": 24,
      "metadata": {
        "id": "ukuZoEAkLfBT"
      },
      "outputs": [],
      "source": [
        "# Let's drop the null values in the dataset\n",
        "\n",
        "# YOUR CODE IS HERE\n",
        "\n",
        "kill.dropna(inplace=True)"
      ]
    },
    {
      "cell_type": "code",
      "execution_count": 25,
      "metadata": {
        "id": "hG8Cb6lT2alH",
        "outputId": "d299cfbd-e541-45c8-a929-381d48a6608a",
        "colab": {
          "base_uri": "https://localhost:8080/"
        }
      },
      "outputs": [
        {
          "output_type": "execute_result",
          "data": {
            "text/plain": [
              "(2254, 14)"
            ]
          },
          "metadata": {},
          "execution_count": 25
        }
      ],
      "source": [
        "# YOUR CODE IS HERE\n",
        "\n",
        "kill.shape"
      ]
    },
    {
      "cell_type": "raw",
      "metadata": {
        "id": "e6SoEPqM5Ujz",
        "outputId": "168bd9fc-094a-4b1f-8c43-d14cef5d02ef"
      },
      "source": [
        "Desired Output:\n",
        "\n",
        "(2254, 14)"
      ]
    },
    {
      "cell_type": "markdown",
      "metadata": {
        "id": "k9qgqB2_LfBU"
      },
      "source": [
        "## <p style=\"background-color:#9d4f8c; font-family:newtimeroman; color:#FFF9ED; font-size:150%; text-align:center; border-radius:10px 10px;\">Task-01: Plot Age by Gender in terms of \"Manner of Death\"</p>\n",
        "\n",
        "<a id=\"2\"></a>\n",
        "<a href=\"#toc\" class=\"btn btn-primary btn-sm\" role=\"button\" aria-pressed=\"true\" \n",
        "style=\"color:blue; background-color:#dfa8e4\" data-toggle=\"popover\">Content</a>"
      ]
    },
    {
      "cell_type": "markdown",
      "metadata": {
        "id": "wf6ACOXILfBV"
      },
      "source": [
        "### <p style=\"background-color:#9d4f8c; font-family:newtimeroman; color:#FFF9ED; font-size:125%; text-align:left; border-radius:10px 10px;\">1.1 Box plot of age in both genders separeted by manner of death.</p>\n",
        "\n",
        "<a id=\"2.1\"></a>\n",
        "<a href=\"#toc\" class=\"btn btn-primary btn-sm\" role=\"button\" aria-pressed=\"true\" \n",
        "style=\"color:blue; background-color:#dfa8e4\" data-toggle=\"popover\">Content</a>"
      ]
    },
    {
      "cell_type": "code",
      "execution_count": 26,
      "metadata": {
        "colab": {
          "base_uri": "https://localhost:8080/",
          "height": 357
        },
        "id": "PGnCKrCOLfBV",
        "outputId": "b828ad29-90a7-407f-8802-6d21387baa51"
      },
      "outputs": [
        {
          "output_type": "execute_result",
          "data": {
            "text/plain": [
              "   id                name      date   manner_of_death       armed   age  \\\n",
              "0   3          Tim Elliot  02/01/15              shot         gun  53.0   \n",
              "1   4    Lewis Lee Lembke  02/01/15              shot         gun  47.0   \n",
              "2   5  John Paul Quintero  03/01/15  shot and Tasered     unarmed  23.0   \n",
              "3   8     Matthew Hoffman  04/01/15              shot  toy weapon  32.0   \n",
              "4   9   Michael Rodriguez  04/01/15              shot    nail gun  39.0   \n",
              "\n",
              "  gender race           city state  signs_of_mental_illness threat_level  \\\n",
              "0      M    A        Shelton    WA                     True       attack   \n",
              "1      M    W          Aloha    OR                    False       attack   \n",
              "2      M    H        Wichita    KS                    False        other   \n",
              "3      M    W  San Francisco    CA                     True       attack   \n",
              "4      M    H          Evans    CO                    False       attack   \n",
              "\n",
              "          flee  body_camera  \n",
              "0  Not fleeing        False  \n",
              "1  Not fleeing        False  \n",
              "2  Not fleeing        False  \n",
              "3  Not fleeing        False  \n",
              "4  Not fleeing        False  "
            ],
            "text/html": [
              "\n",
              "  <div id=\"df-fd189b66-c790-4205-b07a-8ed986432912\">\n",
              "    <div class=\"colab-df-container\">\n",
              "      <div>\n",
              "<style scoped>\n",
              "    .dataframe tbody tr th:only-of-type {\n",
              "        vertical-align: middle;\n",
              "    }\n",
              "\n",
              "    .dataframe tbody tr th {\n",
              "        vertical-align: top;\n",
              "    }\n",
              "\n",
              "    .dataframe thead th {\n",
              "        text-align: right;\n",
              "    }\n",
              "</style>\n",
              "<table border=\"1\" class=\"dataframe\">\n",
              "  <thead>\n",
              "    <tr style=\"text-align: right;\">\n",
              "      <th></th>\n",
              "      <th>id</th>\n",
              "      <th>name</th>\n",
              "      <th>date</th>\n",
              "      <th>manner_of_death</th>\n",
              "      <th>armed</th>\n",
              "      <th>age</th>\n",
              "      <th>gender</th>\n",
              "      <th>race</th>\n",
              "      <th>city</th>\n",
              "      <th>state</th>\n",
              "      <th>signs_of_mental_illness</th>\n",
              "      <th>threat_level</th>\n",
              "      <th>flee</th>\n",
              "      <th>body_camera</th>\n",
              "    </tr>\n",
              "  </thead>\n",
              "  <tbody>\n",
              "    <tr>\n",
              "      <th>0</th>\n",
              "      <td>3</td>\n",
              "      <td>Tim Elliot</td>\n",
              "      <td>02/01/15</td>\n",
              "      <td>shot</td>\n",
              "      <td>gun</td>\n",
              "      <td>53.0</td>\n",
              "      <td>M</td>\n",
              "      <td>A</td>\n",
              "      <td>Shelton</td>\n",
              "      <td>WA</td>\n",
              "      <td>True</td>\n",
              "      <td>attack</td>\n",
              "      <td>Not fleeing</td>\n",
              "      <td>False</td>\n",
              "    </tr>\n",
              "    <tr>\n",
              "      <th>1</th>\n",
              "      <td>4</td>\n",
              "      <td>Lewis Lee Lembke</td>\n",
              "      <td>02/01/15</td>\n",
              "      <td>shot</td>\n",
              "      <td>gun</td>\n",
              "      <td>47.0</td>\n",
              "      <td>M</td>\n",
              "      <td>W</td>\n",
              "      <td>Aloha</td>\n",
              "      <td>OR</td>\n",
              "      <td>False</td>\n",
              "      <td>attack</td>\n",
              "      <td>Not fleeing</td>\n",
              "      <td>False</td>\n",
              "    </tr>\n",
              "    <tr>\n",
              "      <th>2</th>\n",
              "      <td>5</td>\n",
              "      <td>John Paul Quintero</td>\n",
              "      <td>03/01/15</td>\n",
              "      <td>shot and Tasered</td>\n",
              "      <td>unarmed</td>\n",
              "      <td>23.0</td>\n",
              "      <td>M</td>\n",
              "      <td>H</td>\n",
              "      <td>Wichita</td>\n",
              "      <td>KS</td>\n",
              "      <td>False</td>\n",
              "      <td>other</td>\n",
              "      <td>Not fleeing</td>\n",
              "      <td>False</td>\n",
              "    </tr>\n",
              "    <tr>\n",
              "      <th>3</th>\n",
              "      <td>8</td>\n",
              "      <td>Matthew Hoffman</td>\n",
              "      <td>04/01/15</td>\n",
              "      <td>shot</td>\n",
              "      <td>toy weapon</td>\n",
              "      <td>32.0</td>\n",
              "      <td>M</td>\n",
              "      <td>W</td>\n",
              "      <td>San Francisco</td>\n",
              "      <td>CA</td>\n",
              "      <td>True</td>\n",
              "      <td>attack</td>\n",
              "      <td>Not fleeing</td>\n",
              "      <td>False</td>\n",
              "    </tr>\n",
              "    <tr>\n",
              "      <th>4</th>\n",
              "      <td>9</td>\n",
              "      <td>Michael Rodriguez</td>\n",
              "      <td>04/01/15</td>\n",
              "      <td>shot</td>\n",
              "      <td>nail gun</td>\n",
              "      <td>39.0</td>\n",
              "      <td>M</td>\n",
              "      <td>H</td>\n",
              "      <td>Evans</td>\n",
              "      <td>CO</td>\n",
              "      <td>False</td>\n",
              "      <td>attack</td>\n",
              "      <td>Not fleeing</td>\n",
              "      <td>False</td>\n",
              "    </tr>\n",
              "  </tbody>\n",
              "</table>\n",
              "</div>\n",
              "      <button class=\"colab-df-convert\" onclick=\"convertToInteractive('df-fd189b66-c790-4205-b07a-8ed986432912')\"\n",
              "              title=\"Convert this dataframe to an interactive table.\"\n",
              "              style=\"display:none;\">\n",
              "        \n",
              "  <svg xmlns=\"http://www.w3.org/2000/svg\" height=\"24px\"viewBox=\"0 0 24 24\"\n",
              "       width=\"24px\">\n",
              "    <path d=\"M0 0h24v24H0V0z\" fill=\"none\"/>\n",
              "    <path d=\"M18.56 5.44l.94 2.06.94-2.06 2.06-.94-2.06-.94-.94-2.06-.94 2.06-2.06.94zm-11 1L8.5 8.5l.94-2.06 2.06-.94-2.06-.94L8.5 2.5l-.94 2.06-2.06.94zm10 10l.94 2.06.94-2.06 2.06-.94-2.06-.94-.94-2.06-.94 2.06-2.06.94z\"/><path d=\"M17.41 7.96l-1.37-1.37c-.4-.4-.92-.59-1.43-.59-.52 0-1.04.2-1.43.59L10.3 9.45l-7.72 7.72c-.78.78-.78 2.05 0 2.83L4 21.41c.39.39.9.59 1.41.59.51 0 1.02-.2 1.41-.59l7.78-7.78 2.81-2.81c.8-.78.8-2.07 0-2.86zM5.41 20L4 18.59l7.72-7.72 1.47 1.35L5.41 20z\"/>\n",
              "  </svg>\n",
              "      </button>\n",
              "      \n",
              "  <style>\n",
              "    .colab-df-container {\n",
              "      display:flex;\n",
              "      flex-wrap:wrap;\n",
              "      gap: 12px;\n",
              "    }\n",
              "\n",
              "    .colab-df-convert {\n",
              "      background-color: #E8F0FE;\n",
              "      border: none;\n",
              "      border-radius: 50%;\n",
              "      cursor: pointer;\n",
              "      display: none;\n",
              "      fill: #1967D2;\n",
              "      height: 32px;\n",
              "      padding: 0 0 0 0;\n",
              "      width: 32px;\n",
              "    }\n",
              "\n",
              "    .colab-df-convert:hover {\n",
              "      background-color: #E2EBFA;\n",
              "      box-shadow: 0px 1px 2px rgba(60, 64, 67, 0.3), 0px 1px 3px 1px rgba(60, 64, 67, 0.15);\n",
              "      fill: #174EA6;\n",
              "    }\n",
              "\n",
              "    [theme=dark] .colab-df-convert {\n",
              "      background-color: #3B4455;\n",
              "      fill: #D2E3FC;\n",
              "    }\n",
              "\n",
              "    [theme=dark] .colab-df-convert:hover {\n",
              "      background-color: #434B5C;\n",
              "      box-shadow: 0px 1px 3px 1px rgba(0, 0, 0, 0.15);\n",
              "      filter: drop-shadow(0px 1px 2px rgba(0, 0, 0, 0.3));\n",
              "      fill: #FFFFFF;\n",
              "    }\n",
              "  </style>\n",
              "\n",
              "      <script>\n",
              "        const buttonEl =\n",
              "          document.querySelector('#df-fd189b66-c790-4205-b07a-8ed986432912 button.colab-df-convert');\n",
              "        buttonEl.style.display =\n",
              "          google.colab.kernel.accessAllowed ? 'block' : 'none';\n",
              "\n",
              "        async function convertToInteractive(key) {\n",
              "          const element = document.querySelector('#df-fd189b66-c790-4205-b07a-8ed986432912');\n",
              "          const dataTable =\n",
              "            await google.colab.kernel.invokeFunction('convertToInteractive',\n",
              "                                                     [key], {});\n",
              "          if (!dataTable) return;\n",
              "\n",
              "          const docLinkHtml = 'Like what you see? Visit the ' +\n",
              "            '<a target=\"_blank\" href=https://colab.research.google.com/notebooks/data_table.ipynb>data table notebook</a>'\n",
              "            + ' to learn more about interactive tables.';\n",
              "          element.innerHTML = '';\n",
              "          dataTable['output_type'] = 'display_data';\n",
              "          await google.colab.output.renderOutput(dataTable, element);\n",
              "          const docLink = document.createElement('div');\n",
              "          docLink.innerHTML = docLinkHtml;\n",
              "          element.appendChild(docLink);\n",
              "        }\n",
              "      </script>\n",
              "    </div>\n",
              "  </div>\n",
              "  "
            ]
          },
          "metadata": {},
          "execution_count": 26
        }
      ],
      "source": [
        "# YOUR CODE IS HERE\n",
        "\n",
        "kill.head()"
      ]
    },
    {
      "cell_type": "markdown",
      "metadata": {
        "id": "qmq6hFCnLfBX"
      },
      "source": [
        "Desired Output:\n",
        "\n",
        "<img src=https://i.ibb.co/bF8hKvn/DV1-1a.png width=\"800\" height=\"200\">  "
      ]
    },
    {
      "cell_type": "code",
      "execution_count": 27,
      "metadata": {
        "colab": {
          "base_uri": "https://localhost:8080/",
          "height": 653
        },
        "id": "8ukosb2hLfBX",
        "outputId": "ca6f759c-5aa4-4242-852a-d9bb22d8892d"
      },
      "outputs": [
        {
          "output_type": "execute_result",
          "data": {
            "text/plain": [
              "        id                         name      date manner_of_death  \\\n",
              "98     136             Kenneth Kreyssig  09/02/15            shot   \n",
              "1042  1191               Timothy Albert  20/01/16            shot   \n",
              "395    499                   Robert Box  29/05/15            shot   \n",
              "2188  2437               Kevin C. Perry  18/03/17            shot   \n",
              "700    830                  Tyrone Bass  15/09/15            shot   \n",
              "754    895                     Omar Ali  05/10/15            shot   \n",
              "1005  1153  Alan Huberth Franco-Armenta  06/01/16            shot   \n",
              "1320  1505             Mark Daniel Bess  30/04/16            shot   \n",
              "2533  2817                Isaiah Tucker  31/07/17            shot   \n",
              "1668  1873                  Jose Torres  08/09/16            shot   \n",
              "\n",
              "               armed   age gender race          city state  \\\n",
              "98               gun  61.0      M    W        Smyrna    ME   \n",
              "1042             gun  40.0      M    B    Port Barre    LA   \n",
              "395              gun  55.0      M    W   Wilderville    OR   \n",
              "2188             gun  25.0      M    W       Wichita    KS   \n",
              "700   unknown weapon  21.0      M    B     Chalmette    LA   \n",
              "754          unarmed  27.0      M    O         Akron    OH   \n",
              "1005             gun  32.0      M    H     Carrizozo    NM   \n",
              "1320           knife  33.0      M    W  Spanish Fork    UT   \n",
              "2533         vehicle  28.0      M    B       Oshkosh    WI   \n",
              "1668      toy weapon  38.0      M    H         Delhi    CA   \n",
              "\n",
              "      signs_of_mental_illness  threat_level         flee  body_camera  \n",
              "98                       True  undetermined  Not fleeing        False  \n",
              "1042                    False        attack  Not fleeing        False  \n",
              "395                     False        attack  Not fleeing        False  \n",
              "2188                    False        attack  Not fleeing        False  \n",
              "700                     False        attack  Not fleeing        False  \n",
              "754                     False         other  Not fleeing        False  \n",
              "1005                     True        attack  Not fleeing        False  \n",
              "1320                    False         other         Foot        False  \n",
              "2533                    False        attack          Car         True  \n",
              "1668                    False        attack  Not fleeing        False  "
            ],
            "text/html": [
              "\n",
              "  <div id=\"df-a74eee63-cc95-4436-aa7e-e33c97c66212\">\n",
              "    <div class=\"colab-df-container\">\n",
              "      <div>\n",
              "<style scoped>\n",
              "    .dataframe tbody tr th:only-of-type {\n",
              "        vertical-align: middle;\n",
              "    }\n",
              "\n",
              "    .dataframe tbody tr th {\n",
              "        vertical-align: top;\n",
              "    }\n",
              "\n",
              "    .dataframe thead th {\n",
              "        text-align: right;\n",
              "    }\n",
              "</style>\n",
              "<table border=\"1\" class=\"dataframe\">\n",
              "  <thead>\n",
              "    <tr style=\"text-align: right;\">\n",
              "      <th></th>\n",
              "      <th>id</th>\n",
              "      <th>name</th>\n",
              "      <th>date</th>\n",
              "      <th>manner_of_death</th>\n",
              "      <th>armed</th>\n",
              "      <th>age</th>\n",
              "      <th>gender</th>\n",
              "      <th>race</th>\n",
              "      <th>city</th>\n",
              "      <th>state</th>\n",
              "      <th>signs_of_mental_illness</th>\n",
              "      <th>threat_level</th>\n",
              "      <th>flee</th>\n",
              "      <th>body_camera</th>\n",
              "    </tr>\n",
              "  </thead>\n",
              "  <tbody>\n",
              "    <tr>\n",
              "      <th>98</th>\n",
              "      <td>136</td>\n",
              "      <td>Kenneth Kreyssig</td>\n",
              "      <td>09/02/15</td>\n",
              "      <td>shot</td>\n",
              "      <td>gun</td>\n",
              "      <td>61.0</td>\n",
              "      <td>M</td>\n",
              "      <td>W</td>\n",
              "      <td>Smyrna</td>\n",
              "      <td>ME</td>\n",
              "      <td>True</td>\n",
              "      <td>undetermined</td>\n",
              "      <td>Not fleeing</td>\n",
              "      <td>False</td>\n",
              "    </tr>\n",
              "    <tr>\n",
              "      <th>1042</th>\n",
              "      <td>1191</td>\n",
              "      <td>Timothy Albert</td>\n",
              "      <td>20/01/16</td>\n",
              "      <td>shot</td>\n",
              "      <td>gun</td>\n",
              "      <td>40.0</td>\n",
              "      <td>M</td>\n",
              "      <td>B</td>\n",
              "      <td>Port Barre</td>\n",
              "      <td>LA</td>\n",
              "      <td>False</td>\n",
              "      <td>attack</td>\n",
              "      <td>Not fleeing</td>\n",
              "      <td>False</td>\n",
              "    </tr>\n",
              "    <tr>\n",
              "      <th>395</th>\n",
              "      <td>499</td>\n",
              "      <td>Robert Box</td>\n",
              "      <td>29/05/15</td>\n",
              "      <td>shot</td>\n",
              "      <td>gun</td>\n",
              "      <td>55.0</td>\n",
              "      <td>M</td>\n",
              "      <td>W</td>\n",
              "      <td>Wilderville</td>\n",
              "      <td>OR</td>\n",
              "      <td>False</td>\n",
              "      <td>attack</td>\n",
              "      <td>Not fleeing</td>\n",
              "      <td>False</td>\n",
              "    </tr>\n",
              "    <tr>\n",
              "      <th>2188</th>\n",
              "      <td>2437</td>\n",
              "      <td>Kevin C. Perry</td>\n",
              "      <td>18/03/17</td>\n",
              "      <td>shot</td>\n",
              "      <td>gun</td>\n",
              "      <td>25.0</td>\n",
              "      <td>M</td>\n",
              "      <td>W</td>\n",
              "      <td>Wichita</td>\n",
              "      <td>KS</td>\n",
              "      <td>False</td>\n",
              "      <td>attack</td>\n",
              "      <td>Not fleeing</td>\n",
              "      <td>False</td>\n",
              "    </tr>\n",
              "    <tr>\n",
              "      <th>700</th>\n",
              "      <td>830</td>\n",
              "      <td>Tyrone Bass</td>\n",
              "      <td>15/09/15</td>\n",
              "      <td>shot</td>\n",
              "      <td>unknown weapon</td>\n",
              "      <td>21.0</td>\n",
              "      <td>M</td>\n",
              "      <td>B</td>\n",
              "      <td>Chalmette</td>\n",
              "      <td>LA</td>\n",
              "      <td>False</td>\n",
              "      <td>attack</td>\n",
              "      <td>Not fleeing</td>\n",
              "      <td>False</td>\n",
              "    </tr>\n",
              "    <tr>\n",
              "      <th>754</th>\n",
              "      <td>895</td>\n",
              "      <td>Omar Ali</td>\n",
              "      <td>05/10/15</td>\n",
              "      <td>shot</td>\n",
              "      <td>unarmed</td>\n",
              "      <td>27.0</td>\n",
              "      <td>M</td>\n",
              "      <td>O</td>\n",
              "      <td>Akron</td>\n",
              "      <td>OH</td>\n",
              "      <td>False</td>\n",
              "      <td>other</td>\n",
              "      <td>Not fleeing</td>\n",
              "      <td>False</td>\n",
              "    </tr>\n",
              "    <tr>\n",
              "      <th>1005</th>\n",
              "      <td>1153</td>\n",
              "      <td>Alan Huberth Franco-Armenta</td>\n",
              "      <td>06/01/16</td>\n",
              "      <td>shot</td>\n",
              "      <td>gun</td>\n",
              "      <td>32.0</td>\n",
              "      <td>M</td>\n",
              "      <td>H</td>\n",
              "      <td>Carrizozo</td>\n",
              "      <td>NM</td>\n",
              "      <td>True</td>\n",
              "      <td>attack</td>\n",
              "      <td>Not fleeing</td>\n",
              "      <td>False</td>\n",
              "    </tr>\n",
              "    <tr>\n",
              "      <th>1320</th>\n",
              "      <td>1505</td>\n",
              "      <td>Mark Daniel Bess</td>\n",
              "      <td>30/04/16</td>\n",
              "      <td>shot</td>\n",
              "      <td>knife</td>\n",
              "      <td>33.0</td>\n",
              "      <td>M</td>\n",
              "      <td>W</td>\n",
              "      <td>Spanish Fork</td>\n",
              "      <td>UT</td>\n",
              "      <td>False</td>\n",
              "      <td>other</td>\n",
              "      <td>Foot</td>\n",
              "      <td>False</td>\n",
              "    </tr>\n",
              "    <tr>\n",
              "      <th>2533</th>\n",
              "      <td>2817</td>\n",
              "      <td>Isaiah Tucker</td>\n",
              "      <td>31/07/17</td>\n",
              "      <td>shot</td>\n",
              "      <td>vehicle</td>\n",
              "      <td>28.0</td>\n",
              "      <td>M</td>\n",
              "      <td>B</td>\n",
              "      <td>Oshkosh</td>\n",
              "      <td>WI</td>\n",
              "      <td>False</td>\n",
              "      <td>attack</td>\n",
              "      <td>Car</td>\n",
              "      <td>True</td>\n",
              "    </tr>\n",
              "    <tr>\n",
              "      <th>1668</th>\n",
              "      <td>1873</td>\n",
              "      <td>Jose Torres</td>\n",
              "      <td>08/09/16</td>\n",
              "      <td>shot</td>\n",
              "      <td>toy weapon</td>\n",
              "      <td>38.0</td>\n",
              "      <td>M</td>\n",
              "      <td>H</td>\n",
              "      <td>Delhi</td>\n",
              "      <td>CA</td>\n",
              "      <td>False</td>\n",
              "      <td>attack</td>\n",
              "      <td>Not fleeing</td>\n",
              "      <td>False</td>\n",
              "    </tr>\n",
              "  </tbody>\n",
              "</table>\n",
              "</div>\n",
              "      <button class=\"colab-df-convert\" onclick=\"convertToInteractive('df-a74eee63-cc95-4436-aa7e-e33c97c66212')\"\n",
              "              title=\"Convert this dataframe to an interactive table.\"\n",
              "              style=\"display:none;\">\n",
              "        \n",
              "  <svg xmlns=\"http://www.w3.org/2000/svg\" height=\"24px\"viewBox=\"0 0 24 24\"\n",
              "       width=\"24px\">\n",
              "    <path d=\"M0 0h24v24H0V0z\" fill=\"none\"/>\n",
              "    <path d=\"M18.56 5.44l.94 2.06.94-2.06 2.06-.94-2.06-.94-.94-2.06-.94 2.06-2.06.94zm-11 1L8.5 8.5l.94-2.06 2.06-.94-2.06-.94L8.5 2.5l-.94 2.06-2.06.94zm10 10l.94 2.06.94-2.06 2.06-.94-2.06-.94-.94-2.06-.94 2.06-2.06.94z\"/><path d=\"M17.41 7.96l-1.37-1.37c-.4-.4-.92-.59-1.43-.59-.52 0-1.04.2-1.43.59L10.3 9.45l-7.72 7.72c-.78.78-.78 2.05 0 2.83L4 21.41c.39.39.9.59 1.41.59.51 0 1.02-.2 1.41-.59l7.78-7.78 2.81-2.81c.8-.78.8-2.07 0-2.86zM5.41 20L4 18.59l7.72-7.72 1.47 1.35L5.41 20z\"/>\n",
              "  </svg>\n",
              "      </button>\n",
              "      \n",
              "  <style>\n",
              "    .colab-df-container {\n",
              "      display:flex;\n",
              "      flex-wrap:wrap;\n",
              "      gap: 12px;\n",
              "    }\n",
              "\n",
              "    .colab-df-convert {\n",
              "      background-color: #E8F0FE;\n",
              "      border: none;\n",
              "      border-radius: 50%;\n",
              "      cursor: pointer;\n",
              "      display: none;\n",
              "      fill: #1967D2;\n",
              "      height: 32px;\n",
              "      padding: 0 0 0 0;\n",
              "      width: 32px;\n",
              "    }\n",
              "\n",
              "    .colab-df-convert:hover {\n",
              "      background-color: #E2EBFA;\n",
              "      box-shadow: 0px 1px 2px rgba(60, 64, 67, 0.3), 0px 1px 3px 1px rgba(60, 64, 67, 0.15);\n",
              "      fill: #174EA6;\n",
              "    }\n",
              "\n",
              "    [theme=dark] .colab-df-convert {\n",
              "      background-color: #3B4455;\n",
              "      fill: #D2E3FC;\n",
              "    }\n",
              "\n",
              "    [theme=dark] .colab-df-convert:hover {\n",
              "      background-color: #434B5C;\n",
              "      box-shadow: 0px 1px 3px 1px rgba(0, 0, 0, 0.15);\n",
              "      filter: drop-shadow(0px 1px 2px rgba(0, 0, 0, 0.3));\n",
              "      fill: #FFFFFF;\n",
              "    }\n",
              "  </style>\n",
              "\n",
              "      <script>\n",
              "        const buttonEl =\n",
              "          document.querySelector('#df-a74eee63-cc95-4436-aa7e-e33c97c66212 button.colab-df-convert');\n",
              "        buttonEl.style.display =\n",
              "          google.colab.kernel.accessAllowed ? 'block' : 'none';\n",
              "\n",
              "        async function convertToInteractive(key) {\n",
              "          const element = document.querySelector('#df-a74eee63-cc95-4436-aa7e-e33c97c66212');\n",
              "          const dataTable =\n",
              "            await google.colab.kernel.invokeFunction('convertToInteractive',\n",
              "                                                     [key], {});\n",
              "          if (!dataTable) return;\n",
              "\n",
              "          const docLinkHtml = 'Like what you see? Visit the ' +\n",
              "            '<a target=\"_blank\" href=https://colab.research.google.com/notebooks/data_table.ipynb>data table notebook</a>'\n",
              "            + ' to learn more about interactive tables.';\n",
              "          element.innerHTML = '';\n",
              "          dataTable['output_type'] = 'display_data';\n",
              "          await google.colab.output.renderOutput(dataTable, element);\n",
              "          const docLink = document.createElement('div');\n",
              "          docLink.innerHTML = docLinkHtml;\n",
              "          element.appendChild(docLink);\n",
              "        }\n",
              "      </script>\n",
              "    </div>\n",
              "  </div>\n",
              "  "
            ]
          },
          "metadata": {},
          "execution_count": 27
        }
      ],
      "source": [
        "# Be noticed that your output may be different from the one below\n",
        "\n",
        "# YOUR CODE IS HERE\n",
        "\n",
        "kill.sample(10)"
      ]
    },
    {
      "cell_type": "markdown",
      "metadata": {
        "id": "T6JamnmELfBX"
      },
      "source": [
        "Desired Output:\n",
        "\n",
        "<img src=https://i.ibb.co/cY90CMv/DV2-1a.png width=\"700\" height=\"200\">  "
      ]
    },
    {
      "cell_type": "code",
      "execution_count": 28,
      "metadata": {
        "colab": {
          "base_uri": "https://localhost:8080/"
        },
        "id": "3yiA9oQbLfBX",
        "outputId": "4d6d1d05-b704-4d29-f7b6-c358a3e70253"
      },
      "outputs": [
        {
          "output_type": "execute_result",
          "data": {
            "text/plain": [
              "array(['shot', 'shot and Tasered'], dtype=object)"
            ]
          },
          "metadata": {},
          "execution_count": 28
        }
      ],
      "source": [
        "# YOUR CODE IS HERE\n",
        "kill.manner_of_death.unique()\n"
      ]
    },
    {
      "cell_type": "raw",
      "metadata": {
        "id": "_G9rb_XgLfBY"
      },
      "source": [
        "Desired Output:\n",
        "\n",
        "array(['shot', 'shot and Tasered'], dtype=object)"
      ]
    },
    {
      "cell_type": "markdown",
      "metadata": {
        "id": "kAN1jKeE2alO"
      },
      "source": [
        "**INSTRUCTION: Demonstrate the Qurtiles of age in both genders separeted by manner of death.**"
      ]
    },
    {
      "cell_type": "code",
      "execution_count": 29,
      "metadata": {
        "colab": {
          "base_uri": "https://localhost:8080/",
          "height": 225
        },
        "id": "h1eVNQ9HLfBY",
        "outputId": "c4e13107-e317-4cbf-c081-d3490d374b3d"
      },
      "outputs": [
        {
          "output_type": "display_data",
          "data": {
            "text/plain": [
              "<Figure size 576x216 with 1 Axes>"
            ],
            "image/png": "[encoded data removed]"
          },
          "metadata": {
            "needs_background": "light"
          }
        }
      ],
      "source": [
        "# With Seaborn Boxplot\n",
        "\n",
        "# YOUR CODE IS HERE\n",
        "plt.figure(figsize= (8,3))\n",
        "sns.boxplot(kill.gender , kill.age , hue=kill[\"manner_of_death\"]);\n"
      ]
    },
    {
      "cell_type": "markdown",
      "metadata": {
        "id": "TYLtzEndLfBY"
      },
      "source": [
        "Desired Output:\n",
        "\n",
        "<img src=https://i.ibb.co/yFZXX8J/DV2-1b.png width=\"700\" height=\"200\">  "
      ]
    },
    {
      "cell_type": "markdown",
      "metadata": {
        "_uuid": "9b3ff5b459aa93bbce95ba93f6939708473ef040",
        "id": "KXtWPEIy2alO"
      },
      "source": [
        "### <p style=\"background-color:#9d4f8c; font-family:newtimeroman; color:#FFF9ED; font-size:125%; text-align:left; border-radius:10px 10px;\">1.2 Swarm Plot of age in both genders separeted by manner of death.</p>\n",
        "\n",
        "<a id=\"2.2\"></a>\n",
        "<a href=\"#toc\" class=\"btn btn-primary btn-sm\" role=\"button\" aria-pressed=\"true\" \n",
        "style=\"color:blue; background-color:#dfa8e4\" data-toggle=\"popover\">Content</a>"
      ]
    },
    {
      "cell_type": "markdown",
      "metadata": {
        "id": "lDAkV5tK2alO"
      },
      "source": [
        "**INSTRUCTION: Demonstrate the age in both genders separeted by manner of death by a swarm plot.**"
      ]
    },
    {
      "cell_type": "code",
      "execution_count": 30,
      "metadata": {
        "colab": {
          "base_uri": "https://localhost:8080/",
          "height": 225
        },
        "id": "w9hd4IRvLfBZ",
        "outputId": "ff3c1528-f9a3-4bf3-b770-672e630248a6"
      },
      "outputs": [
        {
          "output_type": "display_data",
          "data": {
            "text/plain": [
              "<Figure size 720x216 with 1 Axes>"
            ],
            "image/png": "[encoded data removed]"
          },
          "metadata": {
            "needs_background": "light"
          }
        }
      ],
      "source": [
        "# With Seaborn Swarmplot\n",
        "\n",
        "# YOUR CODE IS HERE\n",
        "\n",
        "fig , ax = plt.subplots(figsize = (10,3))\n",
        "sns.swarmplot(x=\"gender\", y=\"age\" , hue=\"manner_of_death\",data=kill,order = [\"M\",\"F\"],size=4);"
      ]
    },
    {
      "cell_type": "markdown",
      "metadata": {
        "id": "iVfsuOfjLfBZ"
      },
      "source": [
        "Desired Output:\n",
        "\n",
        "<img src=https://i.ibb.co/w4fg9WR/DV2-1c.png width=\"600\" height=\"200\">  "
      ]
    },
    {
      "cell_type": "markdown",
      "metadata": {
        "id": "PjDifPQ82alT"
      },
      "source": [
        "## <p style=\"background-color:#9d4f8c; font-family:newtimeroman; color:#FFF9ED; font-size:150%; text-align:center; border-radius:10px 10px;\">Task-02: Plot Most Dangerous Cities</p>\n",
        "\n",
        "<a id=\"3\"></a>\n",
        "<a href=\"#toc\" class=\"btn btn-primary btn-sm\" role=\"button\" aria-pressed=\"true\" \n",
        "style=\"color:blue; background-color:#dfa8e4\" data-toggle=\"popover\">Content</a>"
      ]
    },
    {
      "cell_type": "code",
      "execution_count": 36,
      "metadata": {
        "colab": {
          "base_uri": "https://localhost:8080/"
        },
        "id": "QzLMO9ebLfBZ",
        "outputId": "b06ad2c5-e671-4dd3-8731-9a9ef45408db"
      },
      "outputs": [
        {
          "output_type": "execute_result",
          "data": {
            "text/plain": [
              "Los Angeles     35\n",
              "Phoenix         28\n",
              "Houston         24\n",
              "Chicago         22\n",
              "Austin          18\n",
              "Las Vegas       17\n",
              "Columbus        16\n",
              "Miami           15\n",
              "San Antonio     15\n",
              "Indianapolis    14\n",
              "St. Louis       14\n",
              "Bakersfield     13\n",
              "Name: city, dtype: int64"
            ]
          },
          "metadata": {},
          "execution_count": 36
        }
      ],
      "source": [
        "# YOUR CODE IS\n",
        "city_dang=kill.city.value_counts()[:12]\n",
        "city_dang"
      ]
    },
    {
      "cell_type": "raw",
      "metadata": {
        "id": "zWKLjO3fLfBZ"
      },
      "source": [
        "Desired Output:\n",
        "\n",
        "Los Angeles     35\n",
        "Phoenix         28\n",
        "Houston         24\n",
        "Chicago         22\n",
        "Austin          18\n",
        "Las Vegas       17\n",
        "Columbus        16\n",
        "Miami           15\n",
        "San Antonio     15\n",
        "Indianapolis    14\n",
        "St. Louis       14\n",
        "Bakersfield     13\n",
        "Name: city, dtype: int64"
      ]
    },
    {
      "cell_type": "code",
      "execution_count": 39,
      "metadata": {
        "colab": {
          "base_uri": "https://localhost:8080/",
          "height": 275
        },
        "id": "oQqDoibPLfBa",
        "outputId": "21745059-01f1-4083-cf58-c50af02112d0"
      },
      "outputs": [
        {
          "output_type": "display_data",
          "data": {
            "text/plain": [
              "<Figure size 576x216 with 1 Axes>"
            ],
            "image/png": "[encoded data removed]"
          },
          "metadata": {
            "needs_background": "light"
          }
        }
      ],
      "source": [
        "# With Seaborn Barplot\n",
        "\n",
        "# YOUR CODE IS HERE\n",
        "fig, ax =plt.subplots(figsize= (8,3))\n",
        "ax =sns.barplot(city_dang.index,\n",
        "                city_dang.values)\n",
        "ax.set_xticklabels(city_dang.index,rotation=50);\n",
        "ax.set_title(\"Most dangerous cities\",color =\"blue\" , fontsize=20);\n"
      ]
    },
    {
      "cell_type": "markdown",
      "metadata": {
        "id": "knrpFo08LfBa"
      },
      "source": [
        "Desired Output:\n",
        "\n",
        "<img src=https://i.ibb.co/Ctxg6HF/DV2-2a.png width=\"500\" height=\"200\">  "
      ]
    },
    {
      "cell_type": "code",
      "execution_count": 40,
      "metadata": {
        "colab": {
          "base_uri": "https://localhost:8080/",
          "height": 289
        },
        "id": "Vh9XnBL3LfBa",
        "outputId": "139168eb-ba94-4cec-8063-7b729cd462cb"
      },
      "outputs": [
        {
          "output_type": "display_data",
          "data": {
            "text/plain": [
              "<Figure size 576x216 with 1 Axes>"
            ],
            "image/png": "[encoded data removed]"
          },
          "metadata": {
            "needs_background": "light"
          }
        }
      ],
      "source": [
        "# With Seaborn Countplot\n",
        "\n",
        "# YOUR CODE IS HERE\n",
        "fig, ax =plt.subplots(figsize= (8,3))\n",
        "ax =sns.countplot(x=\"city\" ,data=kill ,\n",
        "                  order=city_dang.index)\n",
        "ax.set_xticklabels(city_dang.index,rotation=50);\n",
        "ax.set_title(\"Most dangerous cities\",color =\"blue\" , fontsize=20);\n"
      ]
    },
    {
      "cell_type": "markdown",
      "metadata": {
        "id": "JUWlk9JCLfBa"
      },
      "source": [
        "Desired Output:\n",
        "\n",
        "<img src=https://i.ibb.co/SysLN7P/DV2-2b.png width=\"500\" height=\"200\">  "
      ]
    },
    {
      "cell_type": "markdown",
      "metadata": {
        "id": "fRkQXetu2alU"
      },
      "source": [
        "## <p style=\"background-color:#9d4f8c; font-family:newtimeroman; color:#FFF9ED; font-size:150%; text-align:center; border-radius:10px 10px;\">Task-03: Plot 20 Most Dangerous States</p>\n",
        "\n",
        "<a id=\"4\"></a>\n",
        "<a href=\"#toc\" class=\"btn btn-primary btn-sm\" role=\"button\" aria-pressed=\"true\" \n",
        "style=\"color:blue; background-color:#dfa8e4\" data-toggle=\"popover\">Content</a>"
      ]
    },
    {
      "cell_type": "code",
      "execution_count": 41,
      "metadata": {
        "colab": {
          "base_uri": "https://localhost:8080/"
        },
        "id": "TpiFfmr5LfBb",
        "outputId": "9256450f-3631-482f-9fe0-3e1f0a7f1420"
      },
      "outputs": [
        {
          "output_type": "execute_result",
          "data": {
            "text/plain": [
              "CA    366\n",
              "TX    200\n",
              "FL    136\n",
              "AZ    105\n",
              "OH     70\n",
              "NC     66\n",
              "OK     65\n",
              "CO     63\n",
              "GA     61\n",
              "MO     58\n",
              "TN     56\n",
              "IL     56\n",
              "WA     51\n",
              "LA     47\n",
              "AL     45\n",
              "PA     45\n",
              "NY     43\n",
              "VA     43\n",
              "WI     42\n",
              "NM     41\n",
              "Name: state, dtype: int64"
            ]
          },
          "metadata": {},
          "execution_count": 41
        }
      ],
      "source": [
        "# YOUR CODE IS HERE\n",
        "state_dang=kill.state.value_counts()[:20]\n",
        "state_dang"
      ]
    },
    {
      "cell_type": "raw",
      "metadata": {
        "id": "Qt76p6YeLfBb"
      },
      "source": [
        "[bağlantı metni](https://)Desired Output:\n",
        "\n",
        "CA    366\n",
        "TX    200\n",
        "FL    136\n",
        "AZ    105\n",
        "OH     70\n",
        "NC     66\n",
        "OK     65\n",
        "CO     63\n",
        "GA     61\n",
        "MO     58\n",
        "TN     56\n",
        "IL     56\n",
        "WA     51\n",
        "LA     47\n",
        "AL     45\n",
        "PA     45\n",
        "NY     43\n",
        "VA     43\n",
        "WI     42\n",
        "NM     41\n",
        "Name: state, dtype: int64"
      ]
    },
    {
      "cell_type": "code",
      "execution_count": 43,
      "metadata": {
        "colab": {
          "base_uri": "https://localhost:8080/",
          "height": 238
        },
        "id": "lStnUQC0LfBb",
        "outputId": "b4143839-4510-4e1a-dc65-8ce88ae1fc40"
      },
      "outputs": [
        {
          "output_type": "display_data",
          "data": {
            "text/plain": [
              "<Figure size 576x216 with 1 Axes>"
            ],
            "image/png": "[encoded data removed]"
          },
          "metadata": {
            "needs_background": "light"
          }
        }
      ],
      "source": [
        "# With Seaborn Barplot\n",
        "\n",
        "# YOUR CODE IS HERE\n",
        "\n",
        "fig, ax =plt.subplots(figsize= (8,3))\n",
        "ax =sns.barplot(state_dang.index,\n",
        "                state_dang.values)\n",
        "ax.set_xticklabels(state_dang.index,rotation=50);\n",
        "ax.set_title(\"Most dangerous cities\",color =\"blue\" , fontsize=15);"
      ]
    },
    {
      "cell_type": "markdown",
      "metadata": {
        "id": "Igc-wsl4LfBb"
      },
      "source": [
        "Desired Output:\n",
        "\n",
        "<img src=https://i.ibb.co/51dP6Rf/DV3-3a.png width=\"550\" height=\"200\">  "
      ]
    },
    {
      "cell_type": "code",
      "execution_count": 44,
      "metadata": {
        "colab": {
          "base_uri": "https://localhost:8080/",
          "height": 255
        },
        "id": "dw2JB85gLfBc",
        "outputId": "ef9d8dc3-52fe-46d5-bfb1-30929709e44f"
      },
      "outputs": [
        {
          "output_type": "display_data",
          "data": {
            "text/plain": [
              "<Figure size 576x216 with 1 Axes>"
            ],
            "image/png": "[encoded data removed]"
          },
          "metadata": {
            "needs_background": "light"
          }
        }
      ],
      "source": [
        "# With Seaborn Countplot\n",
        "\n",
        "# YOUR CODE IS HERE\n",
        "\n",
        "fig, ax =plt.subplots(figsize= (8,3))\n",
        "ax =sns.countplot(x=\"state\" ,data=kill ,\n",
        "                  order=state_dang.index)\n",
        "ax.set_xticklabels(state_dang.index,rotation=50);\n",
        "ax.set_title(\"Most dangerous cities\",color =\"blue\" , fontsize=20);"
      ]
    },
    {
      "cell_type": "markdown",
      "metadata": {
        "id": "rZ-bRjOsLfBc"
      },
      "source": [
        "Desired Output:\n",
        "\n",
        "<img src=https://i.ibb.co/4MJMf4J/DV3-3b.png width=\"550\" height=\"200\">  "
      ]
    },
    {
      "cell_type": "markdown",
      "metadata": {
        "id": "pMtlcHaS2alU"
      },
      "source": [
        "## <p style=\"background-color:#9d4f8c; font-family:newtimeroman; color:#FFF9ED; font-size:150%; text-align:center; border-radius:10px 10px;\">Task-04: Plot the Killed People Having Mental-Illness or Not</p>\n",
        "\n",
        "<a id=\"5\"></a>\n",
        "<a href=\"#toc\" class=\"btn btn-primary btn-sm\" role=\"button\" aria-pressed=\"true\" \n",
        "style=\"color:blue; background-color:#dfa8e4\" data-toggle=\"popover\">Content</a>"
      ]
    },
    {
      "cell_type": "code",
      "execution_count": 46,
      "metadata": {
        "colab": {
          "base_uri": "https://localhost:8080/"
        },
        "id": "F23qSaXdLfBe",
        "outputId": "965097e7-6626-4902-abcb-fb0abd44f309"
      },
      "outputs": [
        {
          "output_type": "execute_result",
          "data": {
            "text/plain": [
              "False    1681\n",
              "True      573\n",
              "Name: signs_of_mental_illness, dtype: int64"
            ]
          },
          "metadata": {},
          "execution_count": 46
        }
      ],
      "source": [
        "# YOUR CODE IS HERE\n",
        "\n",
        "kill.signs_of_mental_illness.value_counts()"
      ]
    },
    {
      "cell_type": "raw",
      "metadata": {
        "id": "lv_lZgD_LfBe"
      },
      "source": [
        "Desired Output:\n",
        "\n",
        "False    1681\n",
        "True      573\n",
        "Name: signs_of_mental_illness, dtype: int64"
      ]
    },
    {
      "cell_type": "code",
      "execution_count": 63,
      "metadata": {
        "colab": {
          "base_uri": "https://localhost:8080/",
          "height": 214
        },
        "id": "_ttvfDl0LfBe",
        "outputId": "92b7ce07-51b5-48ad-8c0c-abe17ef77bed"
      },
      "outputs": [
        {
          "output_type": "display_data",
          "data": {
            "text/plain": [
              "<Figure size 576x216 with 1 Axes>"
            ],
            "image/png": "[encoded data removed]"
          },
          "metadata": {
            "needs_background": "light"
          }
        }
      ],
      "source": [
        "# With Seaborn Barplot\n",
        "\n",
        "# YOUR CODE IS HERE\n",
        "plt.figure(figsize=(8,3))\n",
        "sns.barplot(kill.signs_of_mental_illness.value_counts().index,\n",
        "            kill.signs_of_mental_illness.value_counts().values,\n",
        "            ci=None);"
      ]
    },
    {
      "cell_type": "markdown",
      "metadata": {
        "id": "sYd7mcbMLfBe"
      },
      "source": [
        "Desired Output:\n",
        "\n",
        "<img src=https://i.ibb.co/FWWBXVW/DV2-4a.png width=\"500\" height=\"200\">  "
      ]
    },
    {
      "cell_type": "code",
      "execution_count": 47,
      "metadata": {
        "colab": {
          "base_uri": "https://localhost:8080/",
          "height": 280
        },
        "id": "SCY7y03iLfBf",
        "outputId": "c5bc5706-bbd3-4e8e-d68b-282fe8cebb40"
      },
      "outputs": [
        {
          "output_type": "display_data",
          "data": {
            "text/plain": [
              "<Figure size 432x288 with 1 Axes>"
            ],
            "image/png": "[encoded data removed]"
          },
          "metadata": {
            "needs_background": "light"
          }
        }
      ],
      "source": [
        "# With Seaborn Countplot\n",
        "\n",
        "# YOUR CODE IS HERE\n",
        "\n",
        "sns.countplot(kill.signs_of_mental_illness);"
      ]
    },
    {
      "cell_type": "markdown",
      "metadata": {
        "id": "tf9mNnwPLfBf"
      },
      "source": [
        "Desired Output:\n",
        "\n",
        "<img src=https://i.ibb.co/tPCCzG6/DV2-4b.png width=\"500\" height=\"200\">  "
      ]
    },
    {
      "cell_type": "markdown",
      "metadata": {
        "id": "6tVp5fRT2alV"
      },
      "source": [
        "## <p style=\"background-color:#9d4f8c; font-family:newtimeroman; color:#FFF9ED; font-size:150%; text-align:center; border-radius:10px 10px;\">Task-05: Plot the Number of Threat Types</p>\n",
        "\n",
        "<a id=\"6\"></a>\n",
        "<a href=\"#toc\" class=\"btn btn-primary btn-sm\" role=\"button\" aria-pressed=\"true\" \n",
        "style=\"color:blue; background-color:#dfa8e4\" data-toggle=\"popover\">Content</a>"
      ]
    },
    {
      "cell_type": "code",
      "execution_count": 51,
      "metadata": {
        "colab": {
          "base_uri": "https://localhost:8080/"
        },
        "id": "DKY-hQoKLfBf",
        "outputId": "10efb954-a925-46a8-fa44-a93d0dc9f68c"
      },
      "outputs": [
        {
          "output_type": "execute_result",
          "data": {
            "text/plain": [
              "attack          1462\n",
              "other            677\n",
              "undetermined     115\n",
              "Name: threat_level, dtype: int64"
            ]
          },
          "metadata": {},
          "execution_count": 51
        }
      ],
      "source": [
        "# YOUR CODE IS HERE\n",
        "\n",
        "kill.threat_level.value_counts()"
      ]
    },
    {
      "cell_type": "raw",
      "metadata": {
        "id": "dMiFFHaSLfBf"
      },
      "source": [
        "Desired Output:\n",
        "\n",
        "attack          1462\n",
        "other            677\n",
        "undetermined     115\n",
        "Name: threat_level, dtype: int64"
      ]
    },
    {
      "cell_type": "code",
      "execution_count": 58,
      "metadata": {
        "colab": {
          "base_uri": "https://localhost:8080/",
          "height": 211
        },
        "id": "EzRX2Qn4LfBf",
        "outputId": "584a3882-6a71-475a-9e08-3c3a62a1e94b"
      },
      "outputs": [
        {
          "output_type": "display_data",
          "data": {
            "text/plain": [
              "<Figure size 576x216 with 1 Axes>"
            ],
            "image/png": "[encoded data removed]"
          },
          "metadata": {
            "needs_background": "light"
          }
        }
      ],
      "source": [
        "# With Seaborn Barplot\n",
        "\n",
        "# YOUR CODE IS HERE\n",
        "\n",
        "plt.figure(figsize=(8,3))\n",
        "sns.barplot(kill.threat_level.value_counts().index,\n",
        "            kill.threat_level.value_counts().values,\n",
        "            ci=None);"
      ]
    },
    {
      "cell_type": "markdown",
      "metadata": {
        "id": "_KYxVMzILfBg"
      },
      "source": [
        "Desired Output:\n",
        "\n",
        "<img src=https://i.ibb.co/3mCnNtg/DV2-5a.png width=\"500\" height=\"200\">  "
      ]
    },
    {
      "cell_type": "code",
      "execution_count": 55,
      "metadata": {
        "colab": {
          "base_uri": "https://localhost:8080/",
          "height": 226
        },
        "id": "rFLenZZgLfBg",
        "outputId": "8dc9a87e-e6dd-401e-cf4e-c77b07869081"
      },
      "outputs": [
        {
          "output_type": "display_data",
          "data": {
            "text/plain": [
              "<Figure size 576x216 with 1 Axes>"
            ],
            "image/png": "[encoded data removed]"
          },
          "metadata": {
            "needs_background": "light"
          }
        }
      ],
      "source": [
        "# With Seaborn Countplot\n",
        "\n",
        "# YOUR CODE IS HERE\n",
        "\n",
        "plt.figure(figsize=(8,3))\n",
        "sns.countplot(kill.threat_level);"
      ]
    },
    {
      "cell_type": "markdown",
      "metadata": {
        "id": "YiXs1cKBLfBg"
      },
      "source": [
        "Desired Output:\n",
        "\n",
        "<img src=https://i.ibb.co/sFQx6CY/DV2-5b.png width=\"500\" height=\"200\">  "
      ]
    },
    {
      "cell_type": "markdown",
      "metadata": {
        "id": "LfPMzBjF2alV"
      },
      "source": [
        "## <p style=\"background-color:#9d4f8c; font-family:newtimeroman; color:#FFF9ED; font-size:150%; text-align:center; border-radius:10px 10px;\">Task-06: Plot the Number of Flee Types</p>\n",
        "\n",
        "<a id=\"7\"></a>\n",
        "<a href=\"#toc\" class=\"btn btn-primary btn-sm\" role=\"button\" aria-pressed=\"true\" \n",
        "style=\"color:blue; background-color:#dfa8e4\" data-toggle=\"popover\">Content</a>"
      ]
    },
    {
      "cell_type": "code",
      "execution_count": 56,
      "metadata": {
        "colab": {
          "base_uri": "https://localhost:8080/"
        },
        "id": "U00MpUbOLfBg",
        "outputId": "3e07a0bf-fbe4-47b5-d5e0-bff3a117a44c"
      },
      "outputs": [
        {
          "output_type": "execute_result",
          "data": {
            "text/plain": [
              "Not fleeing    1528\n",
              "Car             360\n",
              "Foot            278\n",
              "Other            88\n",
              "Name: flee, dtype: int64"
            ]
          },
          "metadata": {},
          "execution_count": 56
        }
      ],
      "source": [
        "# YOUR CODE IS HERE\n",
        "kill.flee.value_counts()\n"
      ]
    },
    {
      "cell_type": "raw",
      "metadata": {
        "id": "SY-K4sjnLfBh"
      },
      "source": [
        "Desired Output:\n",
        "\n",
        "Not fleeing    1528\n",
        "Car             360\n",
        "Foot            278\n",
        "Other            88\n",
        "Name: flee, dtype: int64"
      ]
    },
    {
      "cell_type": "code",
      "execution_count": 59,
      "metadata": {
        "colab": {
          "base_uri": "https://localhost:8080/",
          "height": 211
        },
        "id": "fCErHqpRLfBh",
        "outputId": "cd553097-ddf5-459a-c1ee-69c9b4bf2276"
      },
      "outputs": [
        {
          "output_type": "display_data",
          "data": {
            "text/plain": [
              "<Figure size 576x216 with 1 Axes>"
            ],
            "image/png": "[encoded data removed]"
          },
          "metadata": {
            "needs_background": "light"
          }
        }
      ],
      "source": [
        "# With Seaborn Barplot\n",
        "\n",
        "# YOUR CODE IS HERE\n",
        "\n",
        "plt.figure(figsize=(8,3))\n",
        "sns.barplot(kill.flee.value_counts().index,\n",
        "            kill.flee.value_counts().values,\n",
        "            ci=None);"
      ]
    },
    {
      "cell_type": "markdown",
      "metadata": {
        "id": "iNi9BHdSLfBh"
      },
      "source": [
        "Desired Output:\n",
        "\n",
        "<img src=https://i.ibb.co/tYkDSB6/DV2-6a.png width=\"500\" height=\"200\">  "
      ]
    },
    {
      "cell_type": "code",
      "execution_count": 57,
      "metadata": {
        "colab": {
          "base_uri": "https://localhost:8080/",
          "height": 225
        },
        "id": "FXUZnqXVLfBh",
        "outputId": "499d6813-3db5-4352-8faf-27d8be48c0d9"
      },
      "outputs": [
        {
          "output_type": "display_data",
          "data": {
            "text/plain": [
              "<Figure size 576x216 with 1 Axes>"
            ],
            "image/png": "[encoded data removed]"
          },
          "metadata": {
            "needs_background": "light"
          }
        }
      ],
      "source": [
        "# With Seaborn Countplot\n",
        "\n",
        "# YOUR CODE IS HERE\n",
        "\n",
        "plt.figure(figsize=(8,3))\n",
        "sns.countplot(kill.flee);"
      ]
    },
    {
      "cell_type": "markdown",
      "metadata": {
        "id": "EmItQXudLfBi"
      },
      "source": [
        "Desired Output:\n",
        "\n",
        "<img src=https://i.ibb.co/fXXc4xn/DV2-6b.png width=\"500\" height=\"200\">  "
      ]
    },
    {
      "cell_type": "markdown",
      "metadata": {
        "id": "mEW3K462_ml0"
      },
      "source": [
        "<a id=\"8\"></a>\n",
        "<a href=\"#toc\" class=\"btn btn-primary btn-sm\" role=\"button\" aria-pressed=\"true\" \n",
        "style=\"color:blue; background-color:#dfa8e4\" data-toggle=\"popover\">Content</a>\n",
        "\n",
        "## <p style=\"background-color:#9d4f8c; font-family:newtimeroman; color:#FFF9ED; font-size:150%; text-align:center; border-radius:10px 10px;\">THE END OF THE ASSIGNMENT-02</p>\n",
        "\n",
        "# Now. it's time to relax! Take your time and sip your coffee\n",
        "\n",
        "<img src=https://i.ibb.co/jZD3Mqb/relaxing.jpg width=\"800\" height=\"200\">  \n",
        "\n",
        "\n",
        "<p style=\"text-align: center;\"><img src=\"https://i.ibb.co/99DQ3TY/DS-Courses.png\" class=\"img-fluid\" \n",
        "alt=\"CLRSWY\"></p>\n",
        "\n",
        "<a href=\"https://clarusway.com/\"><img align=\"center\" src=\"https://docs.google.com/uc?id=1lY0Uj5R04yMY3-ZppPWxqCr5pvBLYPnV\" alt=\"CLRSWY\" title=\"Way to Reinvent Yourself\"></a><br/>\n",
        "\n",
        "\n",
        "## <p style=\"background-color:#FDFEFE; font-family:newtimeroman; color:#9d4f8c; font-size:120%; text-align:center; border-radius:10px 10px;\">Way to Reinvent Yourself</p>\n",
        "___"
      ]
    }
  ],
  "metadata": {
    "colab": {
      "provenance": [],
      "include_colab_link": true
    },
    "kernelspec": {
      "display_name": "Python 3",
      "language": "python",
      "name": "python3"
    },
    "language_info": {
      "codemirror_mode": {
        "name": "ipython",
        "version": 3
      },
      "file_extension": ".py",
      "mimetype": "text/x-python",
      "name": "python",
      "nbconvert_exporter": "python",
      "pygments_lexer": "ipython3",
      "version": "3.8.13"
    },
    "toc": {
      "base_numbering": 1,
      "nav_menu": {},
      "number_sections": false,
      "sideBar": true,
      "skip_h1_title": false,
      "title_cell": "Table of Contents",
      "title_sidebar": "Contents",
      "toc_cell": false,
      "toc_position": {
        "height": "calc(100% - 180px)",
        "left": "10px",
        "top": "150px",
        "width": "304.475px"
      },
      "toc_section_display": true,
      "toc_window_display": true
    }
  },
  "nbformat": 4,
  "nbformat_minor": 0
}