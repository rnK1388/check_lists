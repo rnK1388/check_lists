{
  "nbformat": 4,
  "nbformat_minor": 0,
  "metadata": {
    "colab": {
      "provenance": [],
      "authorship_tag": "ABX9TyNMPKpokHJRNYLiZPzzLIJB",
      "include_colab_link": true
    },
    "kernelspec": {
      "name": "python3",
      "display_name": "Python 3"
    },
    "language_info": {
      "name": "python"
    }
  },
  "cells": [
    {
      "cell_type": "markdown",
      "metadata": {
        "id": "view-in-github",
        "colab_type": "text"
      },
      "source": [
        "<a href=\"https://colab.research.google.com/github/rnK1388/check_lists/blob/main/Untitled18.ipynb\" target=\"_parent\"><img src=\"https://colab.research.google.com/assets/colab-badge.svg\" alt=\"Open In Colab\"/></a>"
      ]
    },
    {
      "cell_type": "code",
      "execution_count": 3,
      "metadata": {
        "colab": {
          "base_uri": "https://localhost:8080/"
        },
        "id": "H-i_Z8khHfYG",
        "outputId": "fa03a16f-6750-45dc-b1c7-0e3010b0b26e"
      },
      "outputs": [
        {
          "output_type": "stream",
          "name": "stdout",
          "text": [
            "[2, 3, 5, 7, 11, 13, 17, 19, 23, 29, 31, 37, 41, 43, 47, 53, 59, 61, 67, 71, 73, 79, 83, 89, 97]\n"
          ]
        }
      ],
      "source": [
        "def prime(x, y):\n",
        "    prime_list = []\n",
        "    for i in range(x, y):\n",
        "        if i == 0 or i == 1:\n",
        "            continue\n",
        "        else:\n",
        "            for j in range(2,int(i/2)+1):\n",
        "                if i % j == 0:\n",
        "                    break\n",
        "            else:\n",
        "                prime_list.append(i)\n",
        "    return prime_list\n",
        " \n",
        "\n",
        "lst=prime(1,100)\n",
        "print(lst)"
      ]
    }
  ]
}