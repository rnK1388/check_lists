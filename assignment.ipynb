{
  "nbformat": 4,
  "nbformat_minor": 0,
  "metadata": {
    "colab": {
      "provenance": [],
      "authorship_tag": "ABX9TyPOs+a4gJJsFqDzflENAu0k",
      "include_colab_link": true
    },
    "kernelspec": {
      "name": "python3",
      "display_name": "Python 3"
    },
    "language_info": {
      "name": "python"
    }
  },
  "cells": [
    {
      "cell_type": "markdown",
      "metadata": {
        "id": "view-in-github",
        "colab_type": "text"
      },
      "source": [
        "<a href=\"https://colab.research.google.com/github/rnK1388/check_lists/blob/main/assignment.ipynb\" target=\"_parent\"><img src=\"https://colab.research.google.com/assets/colab-badge.svg\" alt=\"Open In Colab\"/></a>"
      ]
    },
    {
      "cell_type": "code",
      "execution_count": 10,
      "metadata": {
        "colab": {
          "base_uri": "https://localhost:8080/"
        },
        "id": "v0WGt1811Hm_",
        "outputId": "105b62f0-229e-4471-c04e-af9983a3fb2d"
      },
      "outputs": [
        {
          "output_type": "stream",
          "name": "stdout",
          "text": [
            "enter number:407\n",
            "407 is an Armstrong number\n"
          ]
        }
      ],
      "source": [
        "number=int(input(\"enter number:\"))\n",
        "temp=number\n",
        "add_sum = 0\n",
        "while temp != 0:\n",
        "    k = temp % 10\n",
        "    add_sum += k*k*k\n",
        "    temp = temp//10\n",
        "if add_sum == number:\n",
        "    print(f\"{number} is an Armstrong number\")\n",
        "else:\n",
        "    print(\"It is an invalid entry. Don't use non-numeric, float, or negative values!\")\n"
      ]
    }
  ]
}